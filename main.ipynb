{
 "cells": [
  {
   "cell_type": "code",
   "execution_count": 35,
   "metadata": {},
   "outputs": [
    {
     "data": {
      "text/plain": [
       "132"
      ]
     },
     "execution_count": 35,
     "metadata": {},
     "output_type": "execute_result"
    }
   ],
   "source": [
    "import pandas as pd\n",
    "\n",
    "df = pd.read_csv('Symptom-severity.csv')\n",
    "symptoms = df['Symptom'].unique()\n",
    "len(symptoms)"
   ]
  },
  {
   "cell_type": "code",
   "execution_count": null,
   "metadata": {},
   "outputs": [
    {
     "data": {
      "text/plain": [
       "array(['Drug Reaction', 'Malaria', 'Allergy', 'Hypothyroidism',\n",
       "       'Psoriasis', 'GERD', 'Chronic cholestasis', 'hepatitis A',\n",
       "       'Osteoarthristis', '(vertigo) Paroymsal  Positional Vertigo',\n",
       "       'Hypoglycemia', 'Acne', 'Diabetes', 'Impetigo', 'Hypertension',\n",
       "       'Peptic ulcer diseae', 'Dimorphic hemorrhoids(piles)',\n",
       "       'Common Cold', 'Chicken pox', 'Cervical spondylosis',\n",
       "       'Hyperthyroidism', 'Urinary tract infection', 'Varicose veins',\n",
       "       'AIDS', 'Paralysis (brain hemorrhage)', 'Typhoid', 'Hepatitis B',\n",
       "       'Fungal infection', 'Hepatitis C', 'Migraine', 'Bronchial Asthma',\n",
       "       'Alcoholic hepatitis', 'Jaundice', 'Hepatitis E', 'Dengue',\n",
       "       'Hepatitis D', 'Heart attack', 'Pneumonia', 'Arthritis',\n",
       "       'Gastroenteritis', 'Tuberculosis'], dtype=object)"
      ]
     },
     "execution_count": 34,
     "metadata": {},
     "output_type": "execute_result"
    }
   ],
   "source": [
    "df_diseases = pd.read_csv('symptom_Description.csv')\n",
    "diseases = df_diseases['Disease'].unique()\n",
    "diseases"
   ]
  }
 ],
 "metadata": {
  "kernelspec": {
   "display_name": ".venv",
   "language": "python",
   "name": "python3"
  },
  "language_info": {
   "codemirror_mode": {
    "name": "ipython",
    "version": 3
   },
   "file_extension": ".py",
   "mimetype": "text/x-python",
   "name": "python",
   "nbconvert_exporter": "python",
   "pygments_lexer": "ipython3",
   "version": "3.12.3"
  }
 },
 "nbformat": 4,
 "nbformat_minor": 2
}
